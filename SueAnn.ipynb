{
 "cells": [
  {
   "cell_type": "code",
   "execution_count": 1,
   "metadata": {},
   "outputs": [],
   "source": [
    "import pandas as pd\n",
    "from scipy.spatial.distance import pdist, jaccard\n",
    "from scipy.cluster.hierarchy import dendrogram, linkage\n",
    "from sklearn.cluster import AgglomerativeClustering\n",
    "from sklearn.metrics import pairwise_distances\n",
    "from matplotlib import pyplot as plt\n",
    "import numpy as np\n",
    "from seaborn import heatmap\n",
    "%matplotlib inline"
   ]
  },
  {
   "cell_type": "code",
   "execution_count": 7,
   "metadata": {},
   "outputs": [],
   "source": [
    "df = pd.read_csv('Allan.csv',delimiter=\",\")"
   ]
  },
  {
   "cell_type": "code",
   "execution_count": 8,
   "metadata": {},
   "outputs": [
    {
     "data": {
      "text/plain": [
       "array([ 1,  2,  3,  4,  5,  6,  7,  8,  9, 10, 11, 12, 13, 14, 15, 16, 17,\n",
       "       18, 19, 20, 21, 23, 24, 25, 26, 27, 28, 29, 30, 32, 33, 34, 35, 36,\n",
       "       37, 38, 39, 40, 41, 42, 43, 44, 45, 46, 47, 48, 49, 50])"
      ]
     },
     "execution_count": 8,
     "metadata": {},
     "output_type": "execute_result"
    }
   ],
   "source": [
    "np.unique(df.iloc[:,1].values)"
   ]
  },
  {
   "cell_type": "code",
   "execution_count": 9,
   "metadata": {},
   "outputs": [],
   "source": [
    "import numpy as np\n",
    "array = np.array([],dtype='uint8')"
   ]
  },
  {
   "cell_type": "code",
   "execution_count": 60,
   "metadata": {},
   "outputs": [],
   "source": [
    "??pdist"
   ]
  },
  {
   "cell_type": "code",
   "execution_count": 18,
   "metadata": {},
   "outputs": [],
   "source": [
    "def generate_ocurrence_matrix(df):\n",
    "    \"\"\"\n",
    "    Generate occurrence matrix from dataframe\n",
    "    \n",
    "    Parameters\n",
    "    ----------\n",
    "    df : dataframe\n",
    "         A dataframe where the first column contains the names of the samples and the second\n",
    "         contains the molecular weights\n",
    "    \n",
    "    Returns\n",
    "    ----------\n",
    "    matrix : narray\n",
    "             The occurrence matrix associated with the dataframe\n",
    "    names  : list\n",
    "             The list of names of the samples\n",
    "    \"\"\"\n",
    "    \n",
    "    # We first extract the min and max mw\n",
    "    min_mw = df.iloc[:,1].min()\n",
    "    max_mw = df.iloc[:,1].max()\n",
    "    \n",
    "    # We group the mws of each sample\n",
    "    grouped = df.groupby('Sample')\n",
    "    \n",
    "    # Now, we build the occurrence matrix\n",
    "    names = [x for x,y in grouped]\n",
    "    matrix = []\n",
    "    \n",
    "    for _, group in grouped:\n",
    "        \n",
    "        mwsSample = group.iloc[:,1].values\n",
    "        rowSample = [(i in mwsSample) for i in range(min_mw,max_mw+1)]\n",
    "        \n",
    "        matrix.append(mwsSample)\n",
    "        \n",
    "    \n",
    "    return np.array(matrix), names   "
   ]
  },
  {
   "cell_type": "code",
   "execution_count": 19,
   "metadata": {},
   "outputs": [],
   "source": [
    "matrix,names = generate_ocurrence_matrix(df)"
   ]
  },
  {
   "cell_type": "code",
   "execution_count": 20,
   "metadata": {
    "scrolled": true
   },
   "outputs": [
    {
     "data": {
      "text/plain": [
       "array([ 4,  9, 15, 20, 28, 38, 44])"
      ]
     },
     "execution_count": 20,
     "metadata": {},
     "output_type": "execute_result"
    }
   ],
   "source": [
    "matrix[0]"
   ]
  },
  {
   "cell_type": "code",
   "execution_count": 21,
   "metadata": {
    "scrolled": true
   },
   "outputs": [
    {
     "data": {
      "text/plain": [
       "array([ 3, 10, 16, 20, 28, 38, 46])"
      ]
     },
     "execution_count": 21,
     "metadata": {},
     "output_type": "execute_result"
    }
   ],
   "source": [
    "matrix[1]"
   ]
  },
  {
   "cell_type": "code",
   "execution_count": 55,
   "metadata": {
    "scrolled": false
   },
   "outputs": [
    {
     "data": {
      "text/plain": [
       "0.125"
      ]
     },
     "execution_count": 55,
     "metadata": {},
     "output_type": "execute_result"
    }
   ],
   "source": [
    "compute_distance(matrix[0],matrix[2],2,'jaccard')"
   ]
  },
  {
   "cell_type": "code",
   "execution_count": 39,
   "metadata": {},
   "outputs": [],
   "source": [
    "def compute_metric(tp,fp,fn,metric):\n",
    "    if(metric=='jaccard'):\n",
    "        return (fp+fn)/(tp+fp+fn)\n",
    "    if(metric=='dice'):\n",
    "        return (fp+fn)/(2*tp+fp+fn)"
   ]
  },
  {
   "cell_type": "code",
   "execution_count": 51,
   "metadata": {},
   "outputs": [],
   "source": [
    "def compute_distance(vector1,vector2,tolerance,metric):\n",
    "    tp = 0\n",
    "    fp = 0\n",
    "    fn = 0\n",
    "    fps = []\n",
    "    v1Copy = vector1.tolist().copy()\n",
    "    v2Copy = vector2.tolist().copy()\n",
    "    takenindices = []\n",
    "    for i in range(0,len(v1Copy)):\n",
    "        v1 = v1Copy[i]\n",
    "        found = False\n",
    "        for j in range(0,len(v2Copy)):\n",
    "            if j not in takenindices:\n",
    "                v2 = v2Copy[j]\n",
    "                if(v1>= v2-tolerance and v1 <= v2+tolerance and not(found)):\n",
    "                    tp += 1\n",
    "                    found = True\n",
    "                    takenindices.append(j)\n",
    "        if not(found):\n",
    "            fps.append(v1)\n",
    "            \n",
    "\n",
    "    fp = len(fps)\n",
    "    fn = len(v2Copy)-len(takenindices)\n",
    "    \n",
    "    return compute_metric(tp,fp,fn,metric)"
   ]
  },
  {
   "cell_type": "code",
   "execution_count": 145,
   "metadata": {},
   "outputs": [],
   "source": [
    "def generate_similarity_matrix(df,tolerance,metric):\n",
    "    # We group the mws of each sample\n",
    "    grouped = df.groupby('Sample')\n",
    "    names = [x for x,y in grouped]\n",
    "    \n",
    "    matrix  = np.zeros((len(names),len(names)),dtype='float32')\n",
    "    for i in range(0,len(names)):\n",
    "        for j in range(i+1,len(names)):\n",
    "            matrix[i][j] = compute_distance(grouped.agg(list).iloc[i,0],\n",
    "                                            grouped.agg(list).iloc[j,0],\n",
    "                                            tolerance,\n",
    "                                            metric)\n",
    "            matrix[j][i] = matrix[i][j]\n",
    "    return matrix, names"
   ]
  },
  {
   "cell_type": "code",
   "execution_count": 146,
   "metadata": {},
   "outputs": [],
   "source": [
    "def plot_dendrogram(model, **kwargs):\n",
    "    # Create linkage matrix and then plot the dendrogram\n",
    "\n",
    "    # create the counts of samples under each node\n",
    "    counts = np.zeros(model.children_.shape[0])\n",
    "    n_samples = len(model.labels_)\n",
    "    for i, merge in enumerate(model.children_):\n",
    "        current_count = 0\n",
    "        for child_idx in merge:\n",
    "            if child_idx < n_samples:\n",
    "                current_count += 1  # leaf node\n",
    "            else:\n",
    "                current_count += counts[child_idx - n_samples]\n",
    "        counts[i] = current_count\n",
    "\n",
    "    linkage_matrix = np.column_stack([model.children_, model.distances_,\n",
    "                                      counts]).astype(float)\n",
    "\n",
    "    # Plot the corresponding dendrogram\n",
    "    dendrogram(linkage_matrix, **kwargs)"
   ]
  },
  {
   "cell_type": "code",
   "execution_count": 147,
   "metadata": {},
   "outputs": [],
   "source": [
    "def generate_dendogram(df,tolerance=0,linkage='average',metric='jaccard',threshold=0.35,name='dendogram.jpg'):\n",
    "    \"\"\"\n",
    "    Generate occurrence matrix from dataframe\n",
    "    \n",
    "    Parameters\n",
    "    ----------\n",
    "    df : dataframe\n",
    "        A dataframe where the first column contains the names of the samples and the second\n",
    "        contains the molecular weights\n",
    "    tolerance: int >= 0\n",
    "        A value for considering that two bands are matched.\n",
    "    linkage: string\n",
    "        The linkage method for building the dendogram:\n",
    "        ‘ward’, ‘complete’, ‘average’, ‘single’.\n",
    "    metric: string\n",
    "        One of the following metrics to compute the distance matrix:\n",
    "        'jaccard' or 'dice'\n",
    "    threshold: float >=0 and <=1\n",
    "        Value that is considered to create a cluster. \n",
    "    name: string\n",
    "        Path where the dendogram will be saved\n",
    "    Returns\n",
    "    ----------\n",
    "    This methods shows the associated dendogram and saves the image.\n",
    "    \"\"\"\n",
    "\n",
    "    if(metric=='jaccard' or metric=='dice'):            \n",
    "        m,names = generate_similarity_matrix(df,tolerance,metric)\n",
    "    else:\n",
    "        raise Excepction('Only jaccard and dice are supported')\n",
    "    \n",
    "    clustering = AgglomerativeClustering(n_clusters=None,affinity='precomputed',linkage=linkage,\n",
    "                                      distance_threshold=threshold)\n",
    "    clustering.fit(m)\n",
    "    \n",
    "    plot_dendrogram(clustering,leaf_font_size=10.,orientation='left',labels = names)\n",
    "    plt.savefig(name)\n",
    "    "
   ]
  },
  {
   "cell_type": "code",
   "execution_count": 151,
   "metadata": {
    "scrolled": true
   },
   "outputs": [
    {
     "data": {
      "image/png": "[encoded data removed]",
      "text/plain": [
       "<Figure size 432x288 with 1 Axes>"
      ]
     },
     "metadata": {
      "needs_background": "light"
     },
     "output_type": "display_data"
    }
   ],
   "source": [
    "generate_dendogram(df,tolerance=0)"
   ]
  },
  {
   "cell_type": "code",
   "execution_count": 154,
   "metadata": {},
   "outputs": [],
   "source": [
    "def generate_heatmap(df,tolerance=0,metric='jaccard',name='heatmap.jpg'):\n",
    "    m,names = generate_similarity_matrix(df,tolerance,metric)\n",
    "    heatmap(m,xticklabels=names,yticklabels=names)\n",
    "    plt.savefig(name)"
   ]
  },
  {
   "cell_type": "code",
   "execution_count": 155,
   "metadata": {},
   "outputs": [
    {
     "data": {
      "image/png": "[encoded data removed]",
      "text/plain": [
       "<Figure size 432x288 with 2 Axes>"
      ]
     },
     "metadata": {
      "needs_background": "light"
     },
     "output_type": "display_data"
    }
   ],
   "source": [
    "generate_heatmap(df)"
   ]
  },
  {
   "cell_type": "code",
   "execution_count": null,
   "metadata": {},
   "outputs": [],
   "source": []
  }
 ],
 "metadata": {
  "kernelspec": {
   "display_name": "Python 3",
   "language": "python",
   "name": "python3"
  },
  "language_info": {
   "codemirror_mode": {
    "name": "ipython",
    "version": 3
   },
   "file_extension": ".py",
   "mimetype": "text/x-python",
   "name": "python",
   "nbconvert_exporter": "python",
   "pygments_lexer": "ipython3",
   "version": "3.6.7"
  }
 },
 "nbformat": 4,
 "nbformat_minor": 2
}
